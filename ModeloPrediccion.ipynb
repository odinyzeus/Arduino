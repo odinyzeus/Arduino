{
  "nbformat": 4,
  "nbformat_minor": 0,
  "metadata": {
    "colab": {
      "name": "Untitled0.ipynb",
      "provenance": [],
      "collapsed_sections": [],
      "authorship_tag": "ABX9TyPwZVgj/A/4naKPi2j/7W42",
      "include_colab_link": true
    },
    "kernelspec": {
      "name": "python3",
      "display_name": "Python 3"
    },
    "language_info": {
      "name": "python"
    },
    "accelerator": "TPU",
    "gpuClass": "standard"
  },
  "cells": [
    {
      "cell_type": "markdown",
      "metadata": {
        "id": "view-in-github",
        "colab_type": "text"
      },
      "source": [
        "<a href=\"https://colab.research.google.com/github/odinyzeus/Arduino/blob/main/ModeloPrediccion.ipynb\" target=\"_parent\"><img src=\"https://colab.research.google.com/assets/colab-badge.svg\" alt=\"Open In Colab\"/></a>"
      ]
    },
    {
      "cell_type": "code",
      "source": [
        "import pandas as pd\n",
        "import os.path as path"
      ],
      "metadata": {
        "id": "RZMbWMFPnTOi"
      },
      "execution_count": 3,
      "outputs": []
    },
    {
      "cell_type": "code",
      "execution_count": 6,
      "metadata": {
        "id": "XXCoHdpbnK4e"
      },
      "outputs": [],
      "source": [
        "def load_data(file:str, idx:str = '',parse_dates:bool = True)-> pd.DataFrame:\n",
        "  \"\"\"\n",
        "    Load data contained in filepath file\n",
        "\n",
        "    Args:\n",
        "        filepath (str): name of file data\n",
        "\n",
        "    Returns:\n",
        "        pd.DataFrame: DataFrame containning all data saved into file\n",
        "    \"\"\"\n",
        "  fi , ext =  path.splitext(file)\n",
        "  if ext == '.csv':        # Load csv data file\n",
        "      return pd.read_csv(filepath, index_col = index, parse_dates=parse_dates)\n",
        "  if ext == '.xlsx':       # Load excel data file\n",
        "      return pd.read_excel(filepath,sheet_name=sheet,parse_dates=parse_dates)\n",
        "\n"
      ]
    },
    {
      "cell_type": "code",
      "source": [
        "load_data()"
      ],
      "metadata": {
        "id": "rYQCLMT6pqN-"
      },
      "execution_count": null,
      "outputs": []
    }
  ]
}